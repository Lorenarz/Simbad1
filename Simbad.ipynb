{
 "cells": [
  {
   "cell_type": "code",
   "execution_count": 1,
   "metadata": {},
   "outputs": [],
   "source": [
    "#consulta con un identificador\n",
    "from astroquery.simbad import Simbad"
   ]
  },
  {
   "cell_type": "code",
   "execution_count": 2,
   "metadata": {},
   "outputs": [],
   "source": [
    "result_table = Simbad.query_object(\"m1\")"
   ]
  },
  {
   "cell_type": "code",
   "execution_count": 3,
   "metadata": {},
   "outputs": [
    {
     "name": "stdout",
     "output_type": "stream",
     "text": [
      "MAIN_ID      RA         DEC     ... COO_QUAL COO_WAVELENGTH     COO_BIBCODE    \n",
      "          \"h:m:s\"     \"d:m:s\"   ...                                            \n",
      "------- ----------- ----------- ... -------- -------------- -------------------\n",
      "  M   1 05 34 31.94 +22 00 52.2 ...        C              R 2011A&A...533A..10L\n"
     ]
    }
   ],
   "source": [
    "print(result_table)"
   ]
  },
  {
   "cell_type": "code",
   "execution_count": 4,
   "metadata": {},
   "outputs": [],
   "source": [
    "from astroquery.simbad import Simbad"
   ]
  },
  {
   "cell_type": "code",
   "execution_count": 5,
   "metadata": {},
   "outputs": [],
   "source": [
    "result_table = Simbad.query_object(\"m [1-9]\", wildcard=True)"
   ]
  },
  {
   "cell_type": "code",
   "execution_count": 6,
   "metadata": {},
   "outputs": [
    {
     "name": "stdout",
     "output_type": "stream",
     "text": [
      " MAIN_ID       RA         DEC     ... COO_WAVELENGTH     COO_BIBCODE    \n",
      "            \"h:m:s\"     \"d:m:s\"   ...                                   \n",
      "--------- ----------- ----------- ... -------------- -------------------\n",
      "    M   1 05 34 31.94 +22 00 52.2 ...              R 2011A&A...533A..10L\n",
      "    M   2 21 33 27.02 -00 49 23.7 ...              O 2010AJ....140.1830G\n",
      "    M   3 13 42 11.62 +28 22 38.2 ...              O 2010AJ....140.1830G\n",
      "    M   4 16 23 35.22 -26 31 32.7 ...              O 2010AJ....140.1830G\n",
      "    M   5 15 18 33.22 +02 04 51.7 ...              O 2010AJ....140.1830G\n",
      "NGC  6405    17 40 20    -32 15.2 ...              O 2009MNRAS.399.2146W\n",
      "NGC  6475    17 53 51    -34 47.6 ...              O 2009MNRAS.399.2146W\n",
      "    M   8    18 03 37    -24 23.2 ...                                   \n",
      "    M   9 17 19 11.78 -18 30 58.5 ...                2002MNRAS.332..441F\n"
     ]
    }
   ],
   "source": [
    "print(result_table)"
   ]
  },
  {
   "cell_type": "code",
   "execution_count": 7,
   "metadata": {},
   "outputs": [],
   "source": [
    "from astroquery.simbad import Simbad"
   ]
  },
  {
   "cell_type": "code",
   "execution_count": 8,
   "metadata": {},
   "outputs": [
    {
     "name": "stdout",
     "output_type": "stream",
     "text": [
      "* : Any string of characters (including an empty one)\n",
      "\n",
      "? : Any character (exactly one character)\n",
      "\n",
      "[abc] : Exactly one character taken in the list. Can also be defined by a range of characters: [A-Z]\n",
      "\n",
      "[^0-9] : Any (one) character not in the list.\n",
      "\n"
     ]
    }
   ],
   "source": [
    "Simbad.list_wildcards()"
   ]
  },
  {
   "cell_type": "code",
   "execution_count": 9,
   "metadata": {},
   "outputs": [],
   "source": [
    "#consultar una region\n",
    "from astroquery.simbad import Simbad"
   ]
  },
  {
   "cell_type": "code",
   "execution_count": 10,
   "metadata": {},
   "outputs": [
    {
     "name": "stdout",
     "output_type": "stream",
     "text": [
      "     MAIN_ID             RA      ... COO_WAVELENGTH     COO_BIBCODE    \n",
      "                      \"h:m:s\"    ...                                   \n",
      "------------------ ------------- ... -------------- -------------------\n",
      "             M  81 09 55 33.1730 ...              R 2015AJ....150...58F\n",
      "     [SPZ2011] ML2   09 55 32.97 ...              X 2011ApJ...735...26S\n",
      "         [F88] X-5   09 55 33.32 ...                2001ApJ...554..202I\n",
      "     [SPZ2011] 264  09 55 32.618 ...              X 2011ApJ...735...26S\n",
      "     [SPZ2011] ML1   09 55 33.10 ...              X 2011ApJ...735...26S\n",
      "     [SPZ2011] ML3   09 55 33.99 ...              X 2011ApJ...735...26S\n",
      "     [SPZ2011] ML5   09 55 33.39 ...              X 2011ApJ...735...26S\n",
      "     [SPZ2011] ML6   09 55 32.47 ...              X 2011ApJ...735...26S\n",
      "     M81N 2002-12b   09 55 32.30 ...                2008A&A...492..301H\n",
      "     [SPZ2011] ML4   09 55 34.07 ...              X 2011ApJ...735...26S\n",
      "               ...           ... ...            ...                 ...\n",
      "      [SPZ2011] 69  09 55 45.405 ...              X 2011ApJ...735...26S\n",
      "     [SPZ2011] 143  09 55 16.632 ...              X 2011ApJ...735...26S\n",
      "[R97] NGC  3031  9    09 55 11.2 ...                1997A&A...319...18R\n",
      "[R97] NGC  3031 11    09 55 11.1 ...                1997A&A...319...18R\n",
      "     [CFT2001] 105   09 55 20.10 ...              O 2011AJ....142..183N\n",
      "     [MPC2001]  20   09 55 12.31 ...                1989ApJ...344..704J\n",
      "      [PR95] 50486 09 55 55.2260 ...              O 2018yCat.1345....0G\n",
      "     [SPZ2011] 134  09 55 53.309 ...              X 2011ApJ...735...26S\n",
      "       [JCF89] 167   09 55 48.07 ...                1989ApJ...344..704J\n",
      "     [NHZ2011] 126   09 55 13.68 ...              O 2011AJ....142..183N\n",
      "Length = 449 rows\n"
     ]
    }
   ],
   "source": [
    "result_table = Simbad.query_region(\"m81\")\n",
    "print(result_table)"
   ]
  },
  {
   "cell_type": "code",
   "execution_count": 11,
   "metadata": {},
   "outputs": [
    {
     "name": "stdout",
     "output_type": "stream",
     "text": [
      "        MAIN_ID               RA      ... COO_WAVELENGTH     COO_BIBCODE    \n",
      "                           \"h:m:s\"    ...                                   \n",
      "----------------------- ------------- ... -------------- -------------------\n",
      "                  M  81 09 55 33.1730 ...              R 2015AJ....150...58F\n",
      "          [SPZ2011] ML2   09 55 32.97 ...              X 2011ApJ...735...26S\n",
      "              [F88] X-5   09 55 33.32 ...                2001ApJ...554..202I\n",
      "          [SPZ2011] 264  09 55 32.618 ...              X 2011ApJ...735...26S\n",
      "          [SPZ2011] ML1   09 55 33.10 ...              X 2011ApJ...735...26S\n",
      "          [SPZ2011] ML3   09 55 33.99 ...              X 2011ApJ...735...26S\n",
      "          [SPZ2011] ML5   09 55 33.39 ...              X 2011ApJ...735...26S\n",
      "          [SPZ2011] ML6   09 55 32.47 ...              X 2011ApJ...735...26S\n",
      "          M81N 2002-12b   09 55 32.30 ...                2008A&A...492..301H\n",
      "          [SPZ2011] ML4   09 55 34.07 ...              X 2011ApJ...735...26S\n",
      "                    ...           ... ...            ...                 ...\n",
      "             [I92b]  57    09 55 19.5 ...                                   \n",
      "2MASS J09561112+6859003 09 56 11.1008 ...              O 2018yCat.1345....0G\n",
      "          [MPC2001]   8   09 54 45.50 ...              O 2001A&A...379...90M\n",
      "          [NHZ2011] 412   09 56 40.03 ...              O 2011AJ....142..183N\n",
      "                PSK  72    09 54 54.1 ...                                   \n",
      "                PSK 353    09 56 03.7 ...                                   \n",
      "            [FHM94] C11   09 55 09.57 ...              O 2011ApJ...743..176G\n",
      "           [BBC91] S02S    09 56 07.1 ...                                   \n",
      "                PSK 489   09 56 36.55 ...                2003AJ....126.1286L\n",
      "                PSK   7    09 54 37.0 ...                                   \n",
      "Length = 1845 rows\n"
     ]
    }
   ],
   "source": [
    " from astroquery.simbad import Simbad\n",
    "import astropy.units as u\n",
    "result_table = Simbad.query_region(\"m81\", radius=0.1 * u.deg)\n",
    "# another way to specify the radius.\n",
    "result_table = Simbad.query_region(\"m81\", radius='0d6m0s')\n",
    "print(result_table)"
   ]
  },
  {
   "cell_type": "code",
   "execution_count": 14,
   "metadata": {},
   "outputs": [
    {
     "name": "stdout",
     "output_type": "stream",
     "text": [
      "        MAIN_ID               RA      ... COO_WAVELENGTH     COO_BIBCODE    \n",
      "                           \"h:m:s\"    ...                                   \n",
      "----------------------- ------------- ... -------------- -------------------\n",
      "              HD  38875 05 34 59.7295 ...              O 2018yCat.1345....0G\n",
      "         TYC 9390-799-1 05 33 58.2258 ...              O 2018yCat.1345....0G\n",
      "         TYC 9390-646-1 05 35 02.7856 ...              O 2018yCat.1345....0G\n",
      "           LEDA  226495    05 33 37.5 ...              O 2003A&A...412...45P\n",
      "         TYC 9390-629-1 05 35 20.4481 ...              O 2018yCat.1345....0G\n",
      "         TYC 9390-857-1 05 30 58.9094 ...              O 2018yCat.1345....0G\n",
      "        TYC 9390-1171-1 05 37 35.9737 ...              O 2018yCat.1345....0G\n",
      "         TYC 9390-654-1 05 35 27.4004 ...              O 2018yCat.1345....0G\n",
      "         TYC 9390-656-1 05 30 43.7721 ...              O 2018yCat.1345....0G\n",
      "        UCAC2    270559 05 30 39.7112 ...              O 2018yCat.1345....0G\n",
      "                    ...           ... ...            ...                 ...\n",
      "            CD-81   190 05 56 42.4254 ...              O 2018yCat.1345....0G\n",
      "         TYC 9373-779-1 05 11 57.7017 ...              O 2018yCat.1345....0G\n",
      "         TYC 9377-513-1 05 10 43.0522 ...              O 2018yCat.1345....0G\n",
      "         TYC 9386-135-1 05 28 25.0089 ...              O 2018yCat.1345....0G\n",
      "        TYC 9390-1786-1 05 56 34.7473 ...              O 2018yCat.1345....0G\n",
      "2MASS J05493730-8141270 05 49 37.3359 ...              O 2018yCat.1345....0G\n",
      "           LEDA  225045    05 20 30.0 ...              O 2003A&A...412...45P\n",
      "         TYC 9390-157-1 05 35 55.2933 ...              O 2018yCat.1345....0G\n",
      "         PKS J0557-8122   05 57 26.80 ...                2003MNRAS.342.1117M\n",
      "           PKS 0602-813    05 57 30.7 ...                                   \n",
      "Length = 270 rows\n"
     ]
    }
   ],
   "source": [
    "#usando Coordenadas\n",
    "from astroquery.simbad import Simbad\n",
    "import astropy.coordinates as coord\n",
    "result_table = Simbad.query_region(coord.SkyCoord(\"05h35m17.3s -05h23m28s\", frame='icrs'), radius='1d0m0s')\n",
    "print(result_table)"
   ]
  },
  {
   "cell_type": "code",
   "execution_count": 23,
   "metadata": {},
   "outputs": [],
   "source": [
    "from astroquery.simbad import Simbad"
   ]
  },
  {
   "cell_type": "code",
   "execution_count": 24,
   "metadata": {},
   "outputs": [
    {
     "name": "stdout",
     "output_type": "stream",
     "text": [
      "      MAIN_ID             RA      ... COO_WAVELENGTH     COO_BIBCODE    \n",
      "                       \"h:m:s\"    ...                                   \n",
      "------------------- ------------- ... -------------- -------------------\n",
      "NAME Barnard's star 17 57 48.4997 ...              O 2018yCat.1345....0G\n"
     ]
    }
   ],
   "source": [
    "import astropy.coordinates as coord\n",
    ">>> import astropy.units as u\n",
    ">>> result_table = Simbad.query_region(coord.SkyCoord(31.0087, 14.0627,\n",
    "...                                    unit=(u.deg, u.deg), frame='galactic'),\n",
    "...                                    radius='0d0m2s')\n",
    ">>> print(result_table)"
   ]
  },
  {
   "cell_type": "code",
   "execution_count": 25,
   "metadata": {},
   "outputs": [],
   "source": [
    "#consultar un catalogo\n",
    "from astroquery.simbad import Simbad"
   ]
  },
  {
   "cell_type": "code",
   "execution_count": 26,
   "metadata": {},
   "outputs": [
    {
     "name": "stdout",
     "output_type": "stream",
     "text": [
      "        MAIN_ID               RA      ... COO_WAVELENGTH     COO_BIBCODE    \n",
      "                           \"h:m:s\"    ...                                   \n",
      "----------------------- ------------- ... -------------- -------------------\n",
      "2MASS J08300740-4325465   08 30 07.41 ...              I 2003yCat.2246....0C\n",
      "              NGC  2573 01 41 38.0117 ...              O 2018yCat.1345....0G\n",
      "              ESO   1-2    05 04 36.8 ...                1982ESO...C......0L\n",
      "              ESO   1-3  05 22 36.509 ...              I 2006AJ....131.1163S\n",
      "              ESO   1-4 07 49 28.8195 ...              O 2018yCat.1345....0G\n",
      "              ESO   1-5  08 53 05.006 ...              I 2006AJ....131.1163S\n"
     ]
    }
   ],
   "source": [
    "limitedSimbad = Simbad()\n",
    "limitedSimbad.ROW_LIMIT = 6\n",
    "result_table = limitedSimbad.query_catalog('eso')\n",
    "print(result_table)\n"
   ]
  },
  {
   "cell_type": "code",
   "execution_count": 28,
   "metadata": {
    "scrolled": true
   },
   "outputs": [
    {
     "name": "stdout",
     "output_type": "stream",
     "text": [
      "                                                                                                                                                                                    References                                                                                                                                                                                   \n",
      "---------------------------------------------------------------------------------------------------------------------------------------------------------------------------------------------------------------------------------------------------------------------------------------------------------------------------------------------------------------------------------\n",
      "2005A&A...430..165F = DOI 10.1051/0004-6361:20041272\n",
      "Astronomy and Astrophysics, volume 430, 165-186 (2005/1-4)\n",
      "FAMAEY B., JORISSEN A., LURI X., MAYOR M., UDRY S., DEJONGHE H. and TURON C.\n",
      "Local kinematics of K and M giants from CORAVEL/Hipparcos/Tycho-2 data. Revisiting the concept of  superclusters.\n",
      "Files: (abstract)\n",
      "Notes: <Available at CDS: tablea1.dat notes.dat>\n"
     ]
    }
   ],
   "source": [
    "#consulta un bibcode\n",
    "from astroquery.simbad import Simbad\n",
    "result_table = Simbad.query_bibcode('2005A&A.430.165F')\n",
    "print(result_table)"
   ]
  },
  {
   "cell_type": "code",
   "execution_count": null,
   "metadata": {},
   "outputs": [],
   "source": []
  }
 ],
 "metadata": {
  "kernelspec": {
   "display_name": "Python 3",
   "language": "python",
   "name": "python3"
  },
  "language_info": {
   "codemirror_mode": {
    "name": "ipython",
    "version": 3
   },
   "file_extension": ".py",
   "mimetype": "text/x-python",
   "name": "python",
   "nbconvert_exporter": "python",
   "pygments_lexer": "ipython3",
   "version": "3.7.3"
  }
 },
 "nbformat": 4,
 "nbformat_minor": 2
}
